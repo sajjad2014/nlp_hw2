{
 "cells": [
  {
   "cell_type": "code",
   "execution_count": null,
   "id": "af04b209",
   "metadata": {},
   "outputs": [
    {
     "ename": "SyntaxError",
     "evalue": "invalid syntax (1478178688.py, line 17)",
     "output_type": "error",
     "traceback": [
      "\u001b[0;36m  Cell \u001b[0;32mIn[2], line 17\u001b[0;36m\u001b[0m\n\u001b[0;31m    if\u001b[0m\n\u001b[0m       ^\u001b[0m\n\u001b[0;31mSyntaxError\u001b[0m\u001b[0;31m:\u001b[0m invalid syntax\n"
     ]
    }
   ],
   "source": [
    "import os\n",
    "import random\n",
    "import numpy as np\n",
    "from operator import methodcaller\n",
    "\n",
    "\n",
    "seed = 42  \n",
    "old_data_path = \"./datasets\"\n",
    "new_save_path = './splits'\n",
    "split_per = 0.1\n",
    "\n",
    "random.seed(seed)\n",
    "np.random.seed(seed)\n",
    "os.makedirs(new_save_path, exist_ok=True)\n",
    "\n",
    "for dataset_file in os.listdir(old_data_path):\n",
    "    if \"1b_benchmark\" in dataset_file:\n",
    "        continue\n",
    "    dataset_name = dataset_file.split(\".\")[0]\n",
    "    data_path = os.path.join(old_data_path, dataset_file)\n",
    "    with open(data_path) as file:\n",
    "        data = file.read().splitlines()\n",
    "    data = np.array(data)\n",
    "    split = np.random.random(len(data))\n",
    "    condition = split < split_per\n",
    "    train_split = np.arange(len(data))[~condition]\n",
    "    val_split = np.arange(len(data))[condition]\n",
    "    train_data = [str(text) for text in data[train_split]]\n",
    "    with open(os.path.join(new_save_path, f\"{dataset_name}.train.txt\"), \"w+\") as f:\n",
    "        f.write(\"\\n\".join(train_data))\n",
    "        \n",
    "    val_data = [str(text) for text in data[val_split]]\n",
    "    data_split = map(methodcaller(\"rsplit\", \"\\t\", 1), val_data)\n",
    "    val_texts, val_labels = map(list, zip(*data_split))\n",
    "    with open(os.path.join(new_save_path, f\"{dataset_name}.val.txt\"), \"w+\") as f:\n",
    "        f.write(\"\\n\".join(val_texts))\n",
    "    with open(os.path.join(new_save_path, f\"{dataset_name}.val.label.txt\"), \"w+\") as f:\n",
    "        f.write(\"\\n\".join(val_labels))"
   ]
  },
  {
   "cell_type": "code",
   "execution_count": null,
   "id": "6a8c9876",
   "metadata": {},
   "outputs": [],
   "source": []
  }
 ],
 "metadata": {
  "kernelspec": {
   "display_name": "nlp_env2",
   "language": "python",
   "name": "python3"
  },
  "language_info": {
   "codemirror_mode": {
    "name": "ipython",
    "version": 3
   },
   "file_extension": ".py",
   "mimetype": "text/x-python",
   "name": "python",
   "nbconvert_exporter": "python",
   "pygments_lexer": "ipython3",
   "version": "3.10.18"
  }
 },
 "nbformat": 4,
 "nbformat_minor": 5
}
